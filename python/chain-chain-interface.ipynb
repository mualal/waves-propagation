{
 "cells": [
  {
   "cell_type": "code",
   "execution_count": null,
   "metadata": {},
   "outputs": [],
   "source": [
    "import numpy as np\n",
    "from tqdm import tqdm\n",
    "import matplotlib.pyplot as plt\n",
    "import plotly.graph_objs as go"
   ]
  },
  {
   "cell_type": "code",
   "execution_count": null,
   "metadata": {},
   "outputs": [],
   "source": [
    "save_time = 10"
   ]
  },
  {
   "cell_type": "code",
   "execution_count": null,
   "metadata": {},
   "outputs": [],
   "source": [
    "left_x = -400\n",
    "right_x = 600\n",
    "\n",
    "m_1 = 1\n",
    "m_2 = 0.5\n",
    "c_1 = 1.0\n",
    "c_2 = 1.0\n",
    "c_12 = 4.0\n",
    "d_1 = 0\n",
    "d_2 = 0\n",
    "omega = 1\n",
    "a = 1\n",
    "\n",
    "num = np.round(np.arange(left_x, right_x, a)/a)\n",
    "mass = np.array([m_1 if i < 0 else m_2 for i in num])\n",
    "base_stiffness = np.array([d_1 if j < 0 else d_2 for j in num])\n",
    "stiffness = np.array([c_1 if k < 0 else c_2 for k in num])\n",
    "stiffness[np.where(num == -1)[0][0]] = c_12"
   ]
  },
  {
   "cell_type": "code",
   "execution_count": null,
   "metadata": {},
   "outputs": [],
   "source": [
    "print(f'Min Omega Chain 1: {np.sqrt(d_1/m_1)}',\n",
    "      f'Max Omega Chain 1: {np.sqrt((4*c_1+d_1)/m_1)}\\n',\n",
    "      f'Min Omega Chain 2: {np.sqrt(d_2/m_2)}',\n",
    "      f'Max Omega Chain 2: {np.sqrt((4*c_2+d_2)/m_2)}',\n",
    "      sep='\\n')"
   ]
  },
  {
   "cell_type": "code",
   "execution_count": null,
   "metadata": {},
   "outputs": [],
   "source": [
    "def energy(mass, stiffness, vel, disp):\n",
    "    e = mass/2 * vel**2 + stiffness/4 * (np.roll(disp,-1)-disp)**2+\\\n",
    "        np.roll(stiffness,1)/4 * (np.roll(disp,1)-disp)**2 + base_stiffness/2*disp**2\n",
    "    return e"
   ]
  },
  {
   "cell_type": "code",
   "execution_count": null,
   "metadata": {},
   "outputs": [],
   "source": [
    "def specify_initial_and_boundary(num, beta, n_0, u_0, stiffness, base_stiffness, mass, a, omega):\n",
    "\n",
    "    k_1 = np.arcsin(np.sqrt(mass*(omega**2-base_stiffness/mass)/(4*stiffness))) * 2 / a\n",
    "    g_1 = a/(2*omega)*np.sqrt((omega**2-base_stiffness/mass)*((4*stiffness+base_stiffness)/mass-omega**2))\n",
    "    \n",
    "    disp = np.array([0]*len(num), dtype=float)\n",
    "    vel = np.array([0]*len(num), dtype=float)\n",
    "\n",
    "    for i, num in enumerate(num):\n",
    "        if num < -1:\n",
    "            disp[i] = u_0 * np.exp(-beta**2/2 * (num - n_0)**2) * np.sin(num * a * k_1[i])\n",
    "            vel[i] = -u_0 * np.exp(-beta**2/2 * (num - n_0)**2)\n",
    "            vel[i] *= (omega * np.cos(k_1[i]*a*num) - beta**2*g_1[i]/a*(num-n_0)*np.sin(num * a * k_1[i]))\n",
    "        \n",
    "    return disp, vel"
   ]
  },
  {
   "cell_type": "code",
   "execution_count": null,
   "metadata": {},
   "outputs": [],
   "source": [
    "def solver(mass, disp, vel, base_stiffness, disp_history, vel_history, energy_history, t_max, dt):\n",
    "\n",
    "    times = np.arange(0, t_max, dt)\n",
    "\n",
    "    for t in tqdm(times):\n",
    "        acc1 = (stiffness/mass)*(np.roll(disp,-1)-disp)+(np.roll(stiffness,1)/mass)*(np.roll(disp,1)-disp)-\\\n",
    "            base_stiffness/mass*disp\n",
    "        disp += vel*dt+1/2*acc1*dt**2\n",
    "        acc2 = (stiffness/mass)*(np.roll(disp,-1)-disp)+(np.roll(stiffness,1)/mass)*(np.roll(disp,1)-disp)-\\\n",
    "            base_stiffness/mass*disp\n",
    "        vel += 1/2*(acc1+acc2)*dt\n",
    "        if t % save_time == 0:\n",
    "            disp_history = np.vstack((disp_history, disp))\n",
    "            vel_history = np.vstack((disp_history, vel))\n",
    "            energy_history = np.vstack((energy_history, energy(mass, stiffness, vel, disp)))\n",
    "    \n",
    "    return disp_history, vel_history, energy_history"
   ]
  },
  {
   "cell_type": "code",
   "execution_count": null,
   "metadata": {},
   "outputs": [],
   "source": [
    "beta = 0.03\n",
    "n_0 = -150\n",
    "u_0 = 1\n",
    "\n",
    "disp, vel = specify_initial_and_boundary(num, beta, n_0, u_0, stiffness, base_stiffness, mass, a, omega)\n",
    "\n",
    "plt.plot(num, disp)\n",
    "plt.title(f'В начальный момент времени')\n",
    "plt.xlabel('Номер частицы')\n",
    "plt.ylabel('Перемещение, усл. единиц')\n",
    "plt.grid()\n",
    "plt.show()\n",
    "print(max(disp))"
   ]
  },
  {
   "cell_type": "code",
   "execution_count": null,
   "metadata": {},
   "outputs": [],
   "source": [
    "dt = 0.005\n",
    "t_max = 350\n",
    "\n",
    "disp_history = disp\n",
    "vel_history = vel\n",
    "energy_history = energy(mass, stiffness, vel, disp)\n",
    "disp_history, vel_history, energy_history = solver(mass, disp, vel, base_stiffness, disp_history,\n",
    "                                                   vel_history, energy_history, t_max, dt)\n",
    "\n",
    "plt.plot(num, disp_history[-1])\n",
    "plt.title(f'В момент времени t={t_max} усл.ед.')\n",
    "plt.xlabel('Номер частицы')\n",
    "plt.ylabel('Перемещение, усл. единиц')\n",
    "plt.grid()\n",
    "plt.show()"
   ]
  },
  {
   "cell_type": "code",
   "execution_count": null,
   "metadata": {},
   "outputs": [],
   "source": [
    "energy_sum = np.sum(energy_history,axis=1)\n",
    "energy_left = np.sum(np.array([e[:-left_x] for e in energy_history]),axis=1)\n",
    "energy_left /= max(energy_sum)\n",
    "energy_right = np.sum(np.array([e[-left_x:-left_x+right_x] for e in energy_history]),axis=1)\n",
    "energy_right /= max(energy_sum)\n",
    "energy_sum /= max(energy_sum)\n",
    "saved_times = range(0,t_max+save_time,save_time)\n",
    "plt.plot(saved_times, energy_sum)\n",
    "plt.title('Полная энергия системы')\n",
    "plt.xlabel('Время')\n",
    "plt.ylabel('Энергия')\n",
    "plt.show()"
   ]
  },
  {
   "cell_type": "code",
   "execution_count": null,
   "metadata": {},
   "outputs": [],
   "source": [
    "history = energy_history"
   ]
  },
  {
   "cell_type": "code",
   "execution_count": null,
   "metadata": {},
   "outputs": [],
   "source": [
    "import matplotlib.animation as animation\n",
    "plt.rcParams[\"animation.html\"] = \"jshtml\"\n",
    "plt.rcParams['figure.dpi'] = 150  \n",
    "plt.ioff()\n",
    "\n",
    "fig, axs = plt.subplots(nrows=2, ncols=1, layout='constrained')\n",
    "\n",
    "line = axs[0].plot(num, history[0], c='blue', linewidth=1)[0]\n",
    "line1 = axs[1].plot(saved_times[0], energy_sum[0], c='black', linewidth=1, label=\"Полная энергия в системе\")[0]\n",
    "line2 = axs[1].plot(saved_times[0], energy_left[0], c='blue', linewidth=1, label=\"Энергия в левой решётке\")[0]\n",
    "line3 = axs[1].plot(saved_times[0], energy_right[0], c='red', linewidth=1, label=\"Энергия в правой решётке\")[0]\n",
    "\n",
    "axs[0].grid()\n",
    "axs[0].set_ylim((min(history.flatten())-0.05,1.2*max(history.flatten())))\n",
    "axs[0].plot([0,0],[min(history.flatten())-0.05,1.2*max(history.flatten())], c='r', linewidth=0.8)\n",
    "axs[0].set_xlabel('Номер частицы')\n",
    "axs[0].set_ylabel('Энергия, усл.ед.')\n",
    "axs[1].grid()\n",
    "en_conc = np.concatenate([energy_sum, energy_left, energy_right])\n",
    "axs[1].set_ylim((0.9*min(en_conc),1.2*max(en_conc)))\n",
    "axs[1].set_xlim((0,saved_times[-1]))\n",
    "axs[1].set_title('Энергия в системе')\n",
    "axs[1].set_xlabel('Время, усл.ед.')\n",
    "axs[1].set_ylabel('Энергия, усл.ед.')\n",
    "axs[1].legend(fontsize=7)\n",
    "\n",
    "def update(frame):\n",
    "    line.set_xdata(num)\n",
    "    line.set_ydata(history[frame])\n",
    "    line1.set_xdata(saved_times[:frame])\n",
    "    line1.set_ydata(energy_sum[:frame])\n",
    "    line2.set_xdata(saved_times[:frame])\n",
    "    line2.set_ydata(energy_left[:frame])\n",
    "    line3.set_xdata(saved_times[:frame])\n",
    "    line3.set_ydata(energy_right[:frame])\n",
    "    axs[0].set_title(f't={save_time*frame}\\n(m1={m_1}, m2={m_2}, a={a}, c1={c_1}, c2={c_2}, c12={c_12}, omega={omega})')\n",
    "    return [line, line1, line2, line3] \n",
    "\n",
    "anim = animation.FuncAnimation(fig, update, frames=len(history))\n",
    "anim"
   ]
  },
  {
   "cell_type": "code",
   "execution_count": null,
   "metadata": {},
   "outputs": [],
   "source": [
    "#anim.save('1.gif')"
   ]
  },
  {
   "cell_type": "code",
   "execution_count": null,
   "metadata": {},
   "outputs": [],
   "source": [
    "fig = go.Figure()\n",
    "fig.add_trace(go.Scatter(x=np.array(saved_times),y=energy_sum, name='Полная энергия', line=dict(color=\"#000000\")))\n",
    "fig.add_trace(go.Scatter(x=np.array(saved_times),y=energy_left, name='В левой решётке', line=dict(color=\"#0433FF\")))\n",
    "fig.add_trace(go.Scatter(x=np.array(saved_times),y=energy_right, name='В правой решётке', line=dict(color=\"#FF2600\")))\n",
    "\n",
    "fig.update_layout(\n",
    "    title={'text':\"Энергия в системе\", 'x':0.5, 'y':0.9},\n",
    "    xaxis_title=\"Время, усл.ед.\",\n",
    "    yaxis_title=\"Энергия, усл.ед.\",\n",
    "    legend_title=\"Легенда\",\n",
    "    font=dict(\n",
    "        family=\"Times New Roman\",\n",
    "        size=18,\n",
    "        color=\"black\"\n",
    "    )\n",
    ")\n",
    "\n",
    "fig.show()"
   ]
  },
  {
   "cell_type": "code",
   "execution_count": null,
   "metadata": {},
   "outputs": [],
   "source": []
  }
 ],
 "metadata": {
  "kernelspec": {
   "display_name": "notebooks-source-env",
   "language": "python",
   "name": "python3"
  },
  "language_info": {
   "codemirror_mode": {
    "name": "ipython",
    "version": 3
   },
   "file_extension": ".py",
   "mimetype": "text/x-python",
   "name": "python",
   "nbconvert_exporter": "python",
   "pygments_lexer": "ipython3",
   "version": "3.10.9"
  },
  "orig_nbformat": 4
 },
 "nbformat": 4,
 "nbformat_minor": 2
}
