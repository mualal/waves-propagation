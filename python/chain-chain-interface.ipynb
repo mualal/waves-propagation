{
 "cells": [
  {
   "cell_type": "code",
   "execution_count": null,
   "metadata": {},
   "outputs": [],
   "source": [
    "import numpy as np\n",
    "from tqdm import tqdm\n",
    "import matplotlib.pyplot as plt"
   ]
  },
  {
   "cell_type": "code",
   "execution_count": null,
   "metadata": {},
   "outputs": [],
   "source": [
    "left_x = -100\n",
    "right_x = 100\n",
    "\n",
    "m_1 = 1\n",
    "m_2 = 0.5\n",
    "stiffness = 1\n",
    "d_1 = 0.3\n",
    "d_2 = 0.3\n",
    "omega = 1\n",
    "a = 1\n",
    "\n",
    "particles_num = np.round(np.arange(left_x, right_x, a)/a)\n",
    "particles_mass = np.array([m_1 if i < 0 else m_2 for i in particles_num])\n",
    "base_stiffness = np.array([d_1 if j < 0 else d_2 for j in particles_num])"
   ]
  },
  {
   "cell_type": "code",
   "execution_count": null,
   "metadata": {},
   "outputs": [],
   "source": [
    "def specify_initial_and_boundary(particles_num, beta, n_0, u_0, stiffness, m_1, a, omega):\n",
    "\n",
    "    k_1 = np.arcsin(np.sqrt(m_1*(omega**2-d_1/m_1)/(4*stiffness))) * 2 / a\n",
    "    g_1 = a/(2*omega)*np.sqrt((omega**2-d_1/m_1)*((4*stiffness+d_1)/m_1-omega**2))\n",
    "    \n",
    "    particles_disp = np.array([0]*len(particles_num), dtype=float)\n",
    "    particles_vel = np.array([0]*len(particles_num), dtype=float)\n",
    "\n",
    "    for i, num in enumerate(particles_num):\n",
    "        if num < 0:\n",
    "            particles_disp[i] = u_0 * np.exp(-beta**2/2 * (num - n_0)**2) * np.sin(num * a * k_1)\n",
    "            particles_vel[i] = -u_0 * np.exp(-beta**2/2 * (num - n_0)**2)\n",
    "            particles_vel[i] *= (omega * np.cos(k_1*a*num) - beta**2*g_1/a*(num-n_0)*np.sin(num * a * k_1))\n",
    "        \n",
    "    return particles_disp, particles_vel"
   ]
  },
  {
   "cell_type": "code",
   "execution_count": null,
   "metadata": {},
   "outputs": [],
   "source": [
    "def solver(particles_mass, particles_disp, particles_vel, base_stiffness, particles_history, t_max, dt):\n",
    "\n",
    "    times = np.arange(0, t_max, dt)\n",
    "\n",
    "    for t in tqdm(times):\n",
    "        deform = np.roll(particles_disp,-1)+np.roll(particles_disp,1)-2*particles_disp-base_stiffness*particles_disp\n",
    "        particles_vel += (stiffness/particles_mass)*deform*dt\n",
    "        particles_disp += particles_vel * dt\n",
    "        if t % 2 == 0:\n",
    "            particles_history = np.vstack((particles_history, particles_disp))\n",
    "    \n",
    "    return particles_disp, particles_history"
   ]
  },
  {
   "cell_type": "code",
   "execution_count": null,
   "metadata": {},
   "outputs": [],
   "source": [
    "beta = 0.1\n",
    "n_0 = -30\n",
    "u_0 = 1\n",
    "\n",
    "particles_disp, particles_vel = specify_initial_and_boundary(particles_num, beta, n_0, u_0, stiffness, m_1, a, omega)\n",
    "\n",
    "plt.plot(particles_num, particles_disp)\n",
    "plt.title(f'В начальный момент времени')\n",
    "plt.xlabel('Номер частицы')\n",
    "plt.ylabel('Перемещение, усл. единиц')\n",
    "plt.grid()\n",
    "print(max(particles_disp))"
   ]
  },
  {
   "cell_type": "code",
   "execution_count": null,
   "metadata": {},
   "outputs": [],
   "source": [
    "dt = 0.005\n",
    "t_max = 100\n",
    "\n",
    "particles_history = particles_disp\n",
    "particles_disp, particles_history = solver(particles_mass, particles_disp, particles_vel, base_stiffness,\n",
    "                                           particles_history, t_max, dt)\n",
    "\n",
    "plt.plot(particles_num, particles_disp)\n",
    "plt.title(f'В момент времени t={t_max} усл.ед.')\n",
    "plt.xlabel('Номер частицы')\n",
    "plt.ylabel('Перемещение, усл. единиц')\n",
    "plt.grid()"
   ]
  },
  {
   "cell_type": "code",
   "execution_count": null,
   "metadata": {},
   "outputs": [],
   "source": [
    "#plt.plot(particles_history[:,40])"
   ]
  },
  {
   "cell_type": "code",
   "execution_count": null,
   "metadata": {},
   "outputs": [],
   "source": [
    "import matplotlib.animation as animation\n",
    "plt.rcParams[\"animation.html\"] = \"jshtml\"\n",
    "plt.rcParams['figure.dpi'] = 150  \n",
    "plt.ioff()\n",
    "\n",
    "fig, ax = plt.subplots()\n",
    "\n",
    "line = ax.plot(particles_num, particles_history[0], c='blue', linewidth=1)[0]\n",
    "plt.grid()\n",
    "plt.ylim((-1.2,1.2))\n",
    "plt.plot([0,0],[-1.2,1.2], c='r', linewidth=0.8)\n",
    "plt.xlabel('Номер частицы')\n",
    "plt.ylabel('Перемещение, усл.ед.')\n",
    "\n",
    "def update(frame):\n",
    "    line.set_xdata(particles_num)\n",
    "    line.set_ydata(particles_history[frame])\n",
    "    plt.title(f't={2*frame}')\n",
    "    return line, \n",
    "\n",
    "animation.FuncAnimation(fig, update, frames=len(particles_history))"
   ]
  },
  {
   "cell_type": "code",
   "execution_count": null,
   "metadata": {},
   "outputs": [],
   "source": []
  }
 ],
 "metadata": {
  "kernelspec": {
   "display_name": "notebooks-source-env",
   "language": "python",
   "name": "python3"
  },
  "language_info": {
   "codemirror_mode": {
    "name": "ipython",
    "version": 3
   },
   "file_extension": ".py",
   "mimetype": "text/x-python",
   "name": "python",
   "nbconvert_exporter": "python",
   "pygments_lexer": "ipython3",
   "version": "3.10.9"
  },
  "orig_nbformat": 4
 },
 "nbformat": 4,
 "nbformat_minor": 2
}
