{
 "cells": [
  {
   "cell_type": "code",
   "execution_count": null,
   "metadata": {},
   "outputs": [],
   "source": [
    "import numpy as np\n",
    "from tqdm import tqdm\n",
    "import matplotlib.pyplot as plt\n",
    "from matplotlib import cm"
   ]
  },
  {
   "cell_type": "code",
   "execution_count": null,
   "metadata": {},
   "outputs": [],
   "source": [
    "left_x = -100\n",
    "right_x = 100\n",
    "left_y = -100\n",
    "right_y = 100\n",
    "\n",
    "m_1 = 1\n",
    "m_2 = 0.5\n",
    "c = 1\n",
    "omega = 1\n",
    "a = 1\n",
    "\n",
    "k_1 = np.arcsin(omega/2 * np.sqrt(m_1/c)) * 2 / a"
   ]
  },
  {
   "cell_type": "code",
   "execution_count": null,
   "metadata": {},
   "outputs": [],
   "source": [
    "particles_num_x = np.round(np.arange(left_x, right_x, a)/a)\n",
    "particles_num_y = np.round(np.arange(left_y, right_y, a)/a)"
   ]
  },
  {
   "cell_type": "code",
   "execution_count": null,
   "metadata": {},
   "outputs": [],
   "source": [
    "particles_mass = np.zeros(shape=(len(particles_num_y),len(particles_num_x)))\n",
    "for i, num_i in enumerate(particles_num_x):\n",
    "    for j, num_j in enumerate(particles_num_y):\n",
    "        if num_i < 0:\n",
    "            particles_mass[j, i] = m_1\n",
    "        else:\n",
    "            particles_mass[j, i] = m_2\n",
    "particles_mass"
   ]
  },
  {
   "cell_type": "code",
   "execution_count": null,
   "metadata": {},
   "outputs": [],
   "source": [
    "particles_disp = np.zeros(shape=(len(particles_num_y),len(particles_num_x)), dtype=float)\n",
    "particles_vel = np.zeros(shape=(len(particles_num_y),len(particles_num_x)), dtype=float)\n",
    "\n",
    "beta = 0.1\n",
    "n_0 = -30\n",
    "u_0 = 1\n",
    "g_1 = a * np.sqrt(c/m_1) * np.cos(k_1*a/2)\n",
    "\n",
    "for i, num_x in enumerate(particles_num_x):\n",
    "    for j, num_y in enumerate(particles_num_y):\n",
    "        particles_disp[j, i] = u_0 * np.exp(-beta**2/2 * (num_x - n_0)**2) * np.sin(num_x * a * k_1)\n",
    "        particles_vel[j, i] = -u_0 * np.exp(-beta**2/2 * (num_x - n_0)**2)\n",
    "        particles_vel[j, i] *= (omega * np.cos(k_1*a*num_x) - beta**2*g_1/a*(num_x-n_0)*np.sin(num_x * a * k_1))\n",
    "particles_disp"
   ]
  },
  {
   "cell_type": "code",
   "execution_count": null,
   "metadata": {},
   "outputs": [],
   "source": [
    "particles_disp.shape"
   ]
  },
  {
   "cell_type": "code",
   "execution_count": null,
   "metadata": {},
   "outputs": [],
   "source": [
    "plt.plot(particles_disp[10])\n",
    "plt.grid()"
   ]
  },
  {
   "cell_type": "code",
   "execution_count": null,
   "metadata": {},
   "outputs": [],
   "source": [
    "dt = 0.01\n",
    "t_max = 85\n",
    "times = np.arange(0, t_max, dt)"
   ]
  },
  {
   "cell_type": "code",
   "execution_count": null,
   "metadata": {},
   "outputs": [],
   "source": [
    "particles_history = [particles_disp.copy()]\n",
    "for t in tqdm(times):\n",
    "    deform = np.roll(particles_disp,-1) + np.roll(particles_disp,1) + np.roll(particles_disp,-1,axis=0) + \\\n",
    "        np.roll(particles_disp,1,axis=0) - 4*particles_disp\n",
    "    particles_vel += (c/particles_mass)*deform*dt\n",
    "    particles_disp += particles_vel * dt\n",
    "    if t % 5 == 0:\n",
    "        particles_history.append(particles_disp.copy())"
   ]
  },
  {
   "cell_type": "code",
   "execution_count": null,
   "metadata": {},
   "outputs": [],
   "source": [
    "fig = plt.figure()\n",
    "ax = plt.axes(projection=\"3d\")\n",
    "x, y = np.meshgrid(particles_num_x, particles_num_y)\n",
    "surf = ax.plot_surface(x, y, particles_disp)\n",
    "plt.show()"
   ]
  },
  {
   "cell_type": "code",
   "execution_count": null,
   "metadata": {},
   "outputs": [],
   "source": [
    "plt.plot(particles_disp[0])\n",
    "plt.grid()"
   ]
  },
  {
   "cell_type": "code",
   "execution_count": null,
   "metadata": {},
   "outputs": [],
   "source": [
    "X, Y = np.meshgrid(particles_num_x, particles_num_y)\n",
    "levels = np.linspace(particles_disp.min(), particles_disp.max(), 100)\n",
    "fig, ax = plt.subplots()\n",
    "cs = ax.contourf(X, Y, particles_disp,levels=levels)\n",
    "cbar = fig.colorbar(cs)\n",
    "plt.show()"
   ]
  },
  {
   "cell_type": "code",
   "execution_count": null,
   "metadata": {},
   "outputs": [],
   "source": [
    "#%matplotlib qt\n",
    "fig, ax = plt.subplots(subplot_kw={\"projection\": \"3d\"})\n",
    "X, Y = np.meshgrid(particles_num_x, particles_num_y)\n",
    "surf = ax.plot_surface(X, Y, particles_disp, cmap=cm.cool)\n",
    "fig.colorbar(surf, shrink=0.5, aspect=5)\n",
    "plt.show()"
   ]
  },
  {
   "cell_type": "code",
   "execution_count": null,
   "metadata": {},
   "outputs": [],
   "source": [
    "import matplotlib.animation as animation\n",
    "plt.rcParams[\"animation.html\"] = \"jshtml\"\n",
    "plt.rcParams['figure.dpi'] = 150  \n",
    "plt.ioff()\n",
    "\n",
    "fig, ax = plt.subplots()\n",
    "X, Y = np.meshgrid(particles_num_x, particles_num_y)\n",
    "levels = np.linspace(particles_disp.min(), particles_disp.max(), 100)\n",
    "\n",
    "cf = ax.contourf(X, Y, particles_history[0], levels=levels)\n",
    "cbar = fig.colorbar(cf)\n",
    "plt.grid()\n",
    "plt.plot([0,0],[particles_num_y[0],particles_num_y[-1]], c='r', linewidth=0.8)\n",
    "plt.xlabel('Номер частицы по оси Ox')\n",
    "plt.ylabel('Номер частицы по оси Oy')\n",
    "\n",
    "def update(frame):\n",
    "    cf = ax.contourf(X, Y, particles_history[frame], levels=levels)\n",
    "    plt.title(f't={5*frame}')\n",
    "    return cf, \n",
    "\n",
    "animation.FuncAnimation(fig, update, frames=len(particles_history))"
   ]
  },
  {
   "attachments": {},
   "cell_type": "markdown",
   "metadata": {},
   "source": [
    "TODO: изменение colorbar в анимации: [https://stackoverflow.com/questions/39472017/how-to-animate-the-colorbar-in-matplotlib](https://stackoverflow.com/questions/39472017/how-to-animate-the-colorbar-in-matplotlib)."
   ]
  },
  {
   "cell_type": "code",
   "execution_count": null,
   "metadata": {},
   "outputs": [],
   "source": []
  }
 ],
 "metadata": {
  "kernelspec": {
   "display_name": "notebooks-source-env",
   "language": "python",
   "name": "python3"
  },
  "language_info": {
   "codemirror_mode": {
    "name": "ipython",
    "version": 3
   },
   "file_extension": ".py",
   "mimetype": "text/x-python",
   "name": "python",
   "nbconvert_exporter": "python",
   "pygments_lexer": "ipython3",
   "version": "3.10.9"
  },
  "orig_nbformat": 4
 },
 "nbformat": 4,
 "nbformat_minor": 2
}
