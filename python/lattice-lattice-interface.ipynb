{
 "cells": [
  {
   "cell_type": "code",
   "execution_count": null,
   "metadata": {},
   "outputs": [],
   "source": [
    "import numpy as np\n",
    "from numpy import sin, cos\n",
    "from tqdm import tqdm\n",
    "import matplotlib.pyplot as plt\n",
    "from matplotlib import cm\n",
    "from scipy.optimize import fsolve"
   ]
  },
  {
   "cell_type": "code",
   "execution_count": null,
   "metadata": {},
   "outputs": [],
   "source": [
    "save_time = 5"
   ]
  },
  {
   "cell_type": "code",
   "execution_count": null,
   "metadata": {},
   "outputs": [],
   "source": [
    "left_x = -150\n",
    "right_x = 150\n",
    "left_y = -100\n",
    "right_y = 100\n",
    "\n",
    "# lattice-lattice parameters\n",
    "m_1 = 1\n",
    "m_2 = 0.5\n",
    "c = 0.75\n",
    "a = 1\n",
    "\n",
    "# wave packet parameters\n",
    "gamma = 0\n",
    "omega = 1\n",
    "beta_x = 0.1\n",
    "beta_y = 0.1\n",
    "n_0 = -25\n",
    "v_0 = -35\n",
    "u_0 = 1\n",
    "\n",
    "# integration parameters\n",
    "dt = 0.05\n",
    "t_max = 135"
   ]
  },
  {
   "cell_type": "code",
   "execution_count": null,
   "metadata": {},
   "outputs": [],
   "source": [
    "num_x = np.round(np.arange(left_x, right_x, a)/a)\n",
    "num_y = np.round(np.arange(left_y, right_y, a)/a)\n",
    "mass = np.zeros(shape=(len(num_y),len(num_x)))\n",
    "\n",
    "for i, num_i in enumerate(num_x):\n",
    "    for j, num_j in enumerate(num_y):\n",
    "        if num_i < 0:\n",
    "            mass[j, i] = m_1\n",
    "        else:\n",
    "            mass[j, i] = m_2\n",
    "mass"
   ]
  },
  {
   "cell_type": "code",
   "execution_count": null,
   "metadata": {},
   "outputs": [],
   "source": [
    "def energy(mass, stiffness, vel, disp):\n",
    "    e = mass/2 * vel**2 + stiffness/4 * ((np.roll(disp,-1)-disp)**2+(np.roll(disp,1)-disp)**2+\\\n",
    "                                         (np.roll(disp,-1,axis=0)-disp)**2+(np.roll(disp,1,axis=0)-disp)**2)\n",
    "    return e"
   ]
  },
  {
   "cell_type": "code",
   "execution_count": null,
   "metadata": {},
   "outputs": [],
   "source": [
    "def specify_initial_and_boundary(num_x, num_y, beta_x, beta_y, n_0, v_0, u_0, c, m_1, a, omega, gamma):\n",
    "    disp = np.zeros(shape=(len(num_y),len(num_x)), dtype=float)\n",
    "    vel = np.zeros(shape=(len(num_y),len(num_x)), dtype=float)\n",
    "\n",
    "    k_1 = fsolve(lambda k: m_1*omega**2-4*c*(sin(cos(gamma)*k)**2+sin(sin(gamma)*k)**2), 1)[0]*2/a\n",
    "    g_1 = np.sqrt(c/m_1) * (a*cos(gamma)*cos(cos(gamma)*k_1*a/2)*sin(cos(gamma)*k_1*a/2) - \\\n",
    "                            a*sin(gamma)*cos(sin(gamma)*k_1*a/2)*sin(sin(gamma)*k_1*a/2)) / \\\n",
    "                                (np.sqrt((cos(sin(gamma)*k_1*a/2))**2+(sin(cos(gamma)*k_1*a/2))**2))\n",
    "    \n",
    "    n_x = np.tile(np.array(num_x),len(num_y)).reshape((len(num_y),-1))\n",
    "    n_y = np.repeat(np.array(num_y),len(num_x)).reshape((-1,len(num_x)))\n",
    "\n",
    "    disp = u_0*np.exp(-beta_x**2/2*(n_x*cos(gamma)+n_y*sin(gamma)-n_0*cos(gamma)-v_0*sin(gamma))**2)\n",
    "    disp *= np.exp(-beta_y**2/2*(-n_x*sin(gamma)+n_y*cos(gamma)+n_0*sin(gamma)-v_0*cos(gamma))**2)\n",
    "    disp *= sin(k_1*a*cos(gamma)*n_x+k_1*a*sin(gamma)*n_y)\n",
    "    vel = -u_0*np.exp(-beta_x**2/2*(n_x*cos(gamma)+n_y*sin(gamma)-n_0*cos(gamma)-v_0*sin(gamma))**2)\n",
    "    vel *= np.exp(-beta_y**2/2*(-n_x*sin(gamma)+n_y*cos(gamma)+n_0*sin(gamma)-v_0*cos(gamma))**2)\n",
    "    vel *= (omega*cos(k_1*a*cos(gamma)*n_x+k_1*a*sin(gamma)*n_y)-\\\n",
    "            beta_x**2*g_1/a*(n_x*cos(gamma)+n_y*sin(gamma)-n_0*cos(gamma))*\\\n",
    "                sin(k_1*a*cos(gamma)*n_x+k_1*a*sin(gamma)*n_y))\n",
    "\n",
    "    return disp, vel"
   ]
  },
  {
   "cell_type": "code",
   "execution_count": null,
   "metadata": {},
   "outputs": [],
   "source": [
    "def solver(mass, disp, vel, c, disp_history, vel_history, energy_history, t_max, dt, save_time):\n",
    "\n",
    "    times = np.arange(0, t_max, dt)\n",
    "\n",
    "    for t in tqdm(times):\n",
    "\n",
    "        if t % save_time == 0:\n",
    "            disp_history += [disp.copy()]\n",
    "            vel_history += [vel.copy()]\n",
    "            energy_history += [energy(mass, c, vel, disp)]\n",
    "        \n",
    "        # leapfrog synchronized form\n",
    "        acc1 = (c/mass)*(np.roll(disp,-1)+np.roll(disp,1)+np.roll(disp,-1,axis=0)+np.roll(disp,1,axis=0)-4*disp)\n",
    "        disp += vel*dt+1/2*acc1*dt**2\n",
    "        acc2 = (c/mass)*(np.roll(disp,-1)+np.roll(disp,1)+np.roll(disp,-1,axis=0)+np.roll(disp,1,axis=0)-4*disp)\n",
    "        vel += 1/2*(acc1+acc2)*dt\n",
    "\n",
    "        # leapfrog self-made form\n",
    "        #deform = np.roll(disp,-1) + np.roll(disp,1) + np.roll(disp,-1,axis=0) + np.roll(disp,1,axis=0) - 4*disp\n",
    "        #vel += (c/mass)*deform*dt\n",
    "        #disp += vel * dt\n",
    "\n",
    "    return disp_history, vel_history, energy_history"
   ]
  },
  {
   "cell_type": "code",
   "execution_count": null,
   "metadata": {},
   "outputs": [],
   "source": [
    "disp, vel = specify_initial_and_boundary(num_x, num_y, beta_x, beta_y, n_0, v_0, u_0, c, m_1, a, omega, gamma)\n",
    "\n",
    "fig = plt.figure()\n",
    "ax = plt.axes(projection=\"3d\")\n",
    "x, y = np.meshgrid(num_x, num_y)\n",
    "surf = ax.plot_surface(x, y, disp)\n",
    "plt.show()"
   ]
  },
  {
   "cell_type": "code",
   "execution_count": null,
   "metadata": {},
   "outputs": [],
   "source": [
    "disp_history = []\n",
    "vel_history = []\n",
    "energy_history = []\n",
    "disp_history, vel_history, energy_history = solver(mass, disp, vel, c, disp_history, vel_history,\n",
    "                                                   energy_history, t_max, dt, save_time)\n",
    "\n",
    "fig = plt.figure()\n",
    "ax = plt.axes(projection=\"3d\")\n",
    "x, y = np.meshgrid(num_x, num_y)\n",
    "surf = ax.plot_surface(x, y, disp_history[-1])\n",
    "plt.show()"
   ]
  },
  {
   "cell_type": "code",
   "execution_count": null,
   "metadata": {},
   "outputs": [],
   "source": [
    "X, Y = np.meshgrid(num_x, num_y)\n",
    "levels = np.linspace(disp.min(), disp.max(), 100)\n",
    "fig, ax = plt.subplots()\n",
    "cs = ax.contourf(X, Y, disp,levels=levels)\n",
    "cbar = fig.colorbar(cs)\n",
    "ax = plt.gca()\n",
    "ax.set_aspect('equal', adjustable='box')\n",
    "plt.show()"
   ]
  },
  {
   "cell_type": "code",
   "execution_count": null,
   "metadata": {},
   "outputs": [],
   "source": [
    "#%matplotlib qt\n",
    "fig, ax = plt.subplots(subplot_kw={\"projection\": \"3d\"})\n",
    "X, Y = np.meshgrid(num_x, num_y)\n",
    "surf = ax.plot_surface(X, Y, disp, cmap=cm.cool)\n",
    "fig.colorbar(surf, shrink=0.5, aspect=5)\n",
    "plt.show()"
   ]
  },
  {
   "cell_type": "code",
   "execution_count": null,
   "metadata": {},
   "outputs": [],
   "source": [
    "import matplotlib.animation as animation\n",
    "plt.rcParams[\"animation.html\"] = \"jshtml\"\n",
    "plt.rcParams['figure.dpi'] = 150  \n",
    "plt.ioff()\n",
    "\n",
    "fig1, ax = plt.subplots()\n",
    "X, Y = np.meshgrid(num_x, num_y)\n",
    "levels = np.linspace(energy_history[0].min(), energy_history[0].max(), 100)\n",
    "\n",
    "cf = ax.contourf(X, Y, energy_history[0], levels=levels)\n",
    "cbar = fig1.colorbar(cf)\n",
    "plt.grid()\n",
    "plt.plot([0,0],[num_y[0],num_y[-1]], c='r', linewidth=0.8)\n",
    "plt.xlabel('Номер частицы по оси Ox')\n",
    "plt.ylabel('Номер частицы по оси Oy')\n",
    "ax.set_aspect('equal', adjustable='box')\n",
    "\n",
    "def update(frame):\n",
    "    cf = ax.contourf(X, Y, energy_history[frame], levels=levels)\n",
    "    plt.title(f't={5*frame}')\n",
    "    return cf, \n",
    "\n",
    "animation.FuncAnimation(fig1, update, frames=len(energy_history))"
   ]
  },
  {
   "attachments": {},
   "cell_type": "markdown",
   "metadata": {},
   "source": [
    "TODO: изменение colorbar в анимации: [https://stackoverflow.com/questions/39472017/how-to-animate-the-colorbar-in-matplotlib](https://stackoverflow.com/questions/39472017/how-to-animate-the-colorbar-in-matplotlib)."
   ]
  },
  {
   "attachments": {},
   "cell_type": "markdown",
   "metadata": {},
   "source": [
    "# Comparison of numerical results with analytical solution"
   ]
  },
  {
   "cell_type": "code",
   "execution_count": null,
   "metadata": {},
   "outputs": [],
   "source": [
    "import sympy as sp\n",
    "from sympy import Symbol, Abs, I, exp, diff\n",
    "from sympy.plotting import plot\n",
    "\n",
    "\n",
    "def transmission_analytical(m_1, m_2, c, omega, a, gamma):\n",
    "\n",
    "    # find wave vector components (in lattice 1) that corresponds to given frequency omega and angle gamma\n",
    "    k1 = fsolve(lambda k: m_1*omega**2-4*c*(sin(cos(gamma)*k*a/2)**2+sin(sin(gamma)*k*a/2)**2), 1)[0]\n",
    "    k1_x = k1*cos(gamma)\n",
    "    k1_y = k1*sin(gamma)\n",
    "\n",
    "    # find wave vector components (in lattice 2) and refraction angle using Snell's law\n",
    "    k2_y = k1_y\n",
    "    k2_x = fsolve(lambda k: m_2*omega**2-4*c*(sin(k*a/2)**2+sin(k2_y*a/2)**2), 0.5)[0]\n",
    "    k2 = np.sqrt(k2_x**2+k2_y**2)\n",
    "    zeta = np.arctan(k2_y/k2_x)\n",
    "\n",
    "    # find group velocities\n",
    "    k = Symbol('k')\n",
    "    g1 = diff(2*np.sqrt(c/m_1)*sp.sqrt(sp.sin(k*np.cos(gamma)*a/2)**2+\\\n",
    "                                       sp.sin(k*np.sin(gamma)*a/2)**2),k).evalf(subs={k:k1})\n",
    "    g1_x = g1*np.cos(gamma)\n",
    "    g1_y = g1*np.sin(gamma)\n",
    "    g2 = diff(2*np.sqrt(c/m_2)*sp.sqrt(sp.sin(k*np.cos(zeta)*a/2)**2+\\\n",
    "                                       sp.sin(k*np.sin(zeta)*a/2)**2),k).evalf(subs={k:k2})\n",
    "    g2_x = g2*np.cos(zeta)\n",
    "    g2_y = g2*np.sin(zeta)\n",
    "\n",
    "    A_frac = (exp(I*k1_x*a)-exp(-I*k1_x*a))/(exp(I*k2_x*a)-exp(-I*k1_x*a))\n",
    "    A_frac = A_frac.evalf()\n",
    "    trans_coeff = m_2*g2_x/(m_1*g1_x)*(Abs(A_frac))**2\n",
    "    \n",
    "    return trans_coeff\n",
    "\n",
    "\n",
    "def transmission_numerical(m_1, m_2, c, omega, a, gamma):\n",
    "\n",
    "    #left_x = -400\n",
    "    #right_x = 600\n",
    "    #beta_x = 0.03\n",
    "    #beta_y = 0.03\n",
    "    #n_0 = -150\n",
    "    #v_0 = -150\n",
    "    #u_0 = 1\n",
    "\n",
    "    num_x = np.round(np.arange(left_x, right_x, a)/a)\n",
    "    num_y = np.round(np.arange(left_y, right_y, a)/a)\n",
    "    mass = np.zeros(shape=(len(num_y),len(num_x)))\n",
    "    for i, num_i in enumerate(num_x):\n",
    "        for j, num_j in enumerate(num_y):\n",
    "            if num_i < 0:\n",
    "                mass[j, i] = m_1\n",
    "            else:\n",
    "                mass[j, i] = m_2\n",
    "\n",
    "    disp, vel = specify_initial_and_boundary(num_x, num_y, beta_x, beta_y, n_0, v_0, u_0, c, m_1, a, omega, gamma)\n",
    "    \n",
    "    #dt = 0.01\n",
    "    #t_max = 350\n",
    "    \n",
    "    disp_history = []\n",
    "    vel_history = []\n",
    "    energy_history = []\n",
    "    disp_history, vel_history, energy_history = solver(mass, disp, vel, c, disp_history, vel_history,\n",
    "                                                       energy_history, t_max, dt, save_time)\n",
    "    \n",
    "    energy_sum = np.sum(energy_history[-1])\n",
    "    energy_right = np.sum(energy_history[-1][:,np.where(num_x == 0)[0][0]:])\n",
    "\n",
    "    trans_coeff = energy_right/energy_sum\n",
    "\n",
    "    return trans_coeff"
   ]
  },
  {
   "cell_type": "code",
   "execution_count": null,
   "metadata": {},
   "outputs": [],
   "source": [
    "trans_a = lambda x: transmission_analytical(m_1, m_2, c, omega, a, x)\n",
    "trans_num = lambda x: transmission_numerical(m_1, m_2, c, omega, a, x)\n",
    "\n",
    "\n",
    "# gamma_values = abs(10/np.logspace(0,1,20)-11)/10 * (np.pi/4)\n",
    "\n",
    "gamma_values = np.pi * np.array([0, 1/10, 1/8, 1/6, 1/5, 1/4.5, 1/4.2, 1/4.1, 1/4.05, 1/4.005, 1/4.0005,\n",
    "                                 1/4, 1/3.9, 1/3.8, 1/3.7, 1/3.6, 1/3.5, 1/3.25, 1/3])\n",
    "\n",
    "trans_a_values = [trans_a(i) for i in gamma_values]\n",
    "trans_num_values = [trans_num(j) for j in gamma_values]"
   ]
  },
  {
   "cell_type": "code",
   "execution_count": null,
   "metadata": {},
   "outputs": [],
   "source": [
    "plt.close(fig1)\n",
    "plt.rcParams[\"animation.html\"] = \"none\"\n",
    "plt.figure()\n",
    "plt.plot(gamma_values/np.pi*180, trans_num_values, c='blue', label='Численно')\n",
    "plt.plot(gamma_values/np.pi*180, trans_a_values, '--', c='red', label='Аналитически')\n",
    "plt.title('Incidence angle dependence of the transmission coefficient\\n'+\\\n",
    "          f'(m1={m_1}, m2={m_2}, c={c}, a={a}, omega={omega})')\n",
    "plt.xlabel('gamma, degrees')\n",
    "plt.ylabel('T')\n",
    "plt.grid()\n",
    "plt.legend()\n",
    "plt.show()"
   ]
  },
  {
   "cell_type": "code",
   "execution_count": null,
   "metadata": {},
   "outputs": [],
   "source": [
    "# transmission coefficient with given incidence angle\n",
    "trans_a(np.pi/4.2)"
   ]
  },
  {
   "cell_type": "code",
   "execution_count": null,
   "metadata": {},
   "outputs": [],
   "source": []
  }
 ],
 "metadata": {
  "kernelspec": {
   "display_name": "notebooks-source-env",
   "language": "python",
   "name": "python3"
  },
  "language_info": {
   "codemirror_mode": {
    "name": "ipython",
    "version": 3
   },
   "file_extension": ".py",
   "mimetype": "text/x-python",
   "name": "python",
   "nbconvert_exporter": "python",
   "pygments_lexer": "ipython3",
   "version": "3.10.9"
  },
  "orig_nbformat": 4
 },
 "nbformat": 4,
 "nbformat_minor": 2
}
