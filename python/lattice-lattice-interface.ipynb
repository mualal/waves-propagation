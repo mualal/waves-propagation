{
 "cells": [
  {
   "cell_type": "code",
   "execution_count": null,
   "metadata": {},
   "outputs": [],
   "source": [
    "import numpy as np\n",
    "from numpy import sin, cos, exp\n",
    "from tqdm import tqdm\n",
    "import matplotlib.pyplot as plt\n",
    "from matplotlib import cm\n",
    "from scipy.optimize import fsolve"
   ]
  },
  {
   "cell_type": "code",
   "execution_count": null,
   "metadata": {},
   "outputs": [],
   "source": [
    "save_time = 5"
   ]
  },
  {
   "cell_type": "code",
   "execution_count": null,
   "metadata": {},
   "outputs": [],
   "source": [
    "left_x = -100\n",
    "right_x = 100\n",
    "left_y = -100\n",
    "right_y = 100\n",
    "\n",
    "# lattice-lattice parameters\n",
    "m_1 = 1\n",
    "m_2 = 0.5\n",
    "c = 0.75\n",
    "a = 1\n",
    "\n",
    "# wave packet parameters\n",
    "gamma = np.pi/6\n",
    "omega = 1\n",
    "beta_x = 0.1\n",
    "beta_y = 0.1\n",
    "n_0 = -25\n",
    "v_0 = -35\n",
    "u_0 = 1\n",
    "\n",
    "# integration parameters\n",
    "dt = 0.01\n",
    "t_max = 85"
   ]
  },
  {
   "cell_type": "code",
   "execution_count": null,
   "metadata": {},
   "outputs": [],
   "source": [
    "num_x = np.round(np.arange(left_x, right_x, a)/a)\n",
    "num_y = np.round(np.arange(left_y, right_y, a)/a)\n",
    "mass = np.zeros(shape=(len(num_y),len(num_x)))\n",
    "\n",
    "for i, num_i in enumerate(num_x):\n",
    "    for j, num_j in enumerate(num_y):\n",
    "        if num_i < 0:\n",
    "            mass[j, i] = m_1\n",
    "        else:\n",
    "            mass[j, i] = m_2\n",
    "mass"
   ]
  },
  {
   "cell_type": "code",
   "execution_count": null,
   "metadata": {},
   "outputs": [],
   "source": [
    "def energy(mass, stiffness, vel, disp):\n",
    "    e = mass/2 * vel**2 + stiffness/4 * ((np.roll(disp,-1)-disp)**2+(np.roll(disp,1)-disp)**2+\\\n",
    "                                         (np.roll(disp,-1,axis=0)-disp)**2+(np.roll(disp,1,axis=0)-disp)**2)\n",
    "    return e"
   ]
  },
  {
   "cell_type": "code",
   "execution_count": null,
   "metadata": {},
   "outputs": [],
   "source": [
    "def specify_initial_and_boundary(num_x, num_y, beta_x, beta_y, n_0, v_0, u_0, c, m_1, a, omega):\n",
    "    disp = np.zeros(shape=(len(num_y),len(num_x)), dtype=float)\n",
    "    vel = np.zeros(shape=(len(num_y),len(num_x)), dtype=float)\n",
    "\n",
    "    k_1 = fsolve(lambda k: m_1*omega**2-4*c*(sin(cos(gamma)*k)**2+sin(sin(gamma)*k)**2), 1)[0]*2/a\n",
    "    g_1 = np.sqrt(c/m_1) * (a*cos(gamma)*cos(cos(gamma)*k_1*a/2)*sin(cos(gamma)*k_1*a/2) - \\\n",
    "                            a*sin(gamma)*cos(sin(gamma)*k_1*a/2)*sin(sin(gamma)*k_1*a/2)) / \\\n",
    "                                (np.sqrt((cos(sin(gamma)*k_1*a/2))**2+(sin(cos(gamma)*k_1*a/2))**2))\n",
    "\n",
    "    for i, n_x in enumerate(num_x):\n",
    "        for j, n_y in enumerate(num_y):\n",
    "            disp[j,i]=u_0*exp(-beta_x**2/2*(n_x*cos(gamma)+n_y*sin(gamma)-n_0*cos(gamma)-v_0*sin(gamma))**2)\n",
    "            disp[j,i]*=exp(-beta_y**2/2*(-n_x*sin(gamma)+n_y*cos(gamma)+n_0*sin(gamma)-v_0*cos(gamma))**2)\n",
    "            disp[j,i]*=sin(k_1*a*cos(gamma)*n_x+k_1*a*sin(gamma)*n_y)\n",
    "            vel[j,i]=-u_0*exp(-beta_x**2/2*(n_x*cos(gamma)+n_y*sin(gamma)-n_0*cos(gamma)-v_0*sin(gamma))**2)\n",
    "            vel[j,i]*=exp(-beta_y**2/2*(-n_x*sin(gamma)+n_y*cos(gamma)+n_0*sin(gamma)-v_0*cos(gamma))**2)\n",
    "            vel[j,i]*=(omega*cos(k_1*a*cos(gamma)*n_x+k_1*a*sin(gamma)*n_y)-\\\n",
    "                    beta_x**2*g_1/a*(n_x*cos(gamma)+n_y*sin(gamma)-n_0*cos(gamma))*\\\n",
    "                        sin(k_1*a*cos(gamma)*n_x+k_1*a*sin(gamma)*n_y))\n",
    "\n",
    "    return disp, vel"
   ]
  },
  {
   "cell_type": "code",
   "execution_count": null,
   "metadata": {},
   "outputs": [],
   "source": [
    "def solver(mass, disp, vel, c, disp_history, vel_history, energy_history, t_max, dt, save_time):\n",
    "\n",
    "    times = np.arange(0, t_max, dt)\n",
    "\n",
    "    for t in tqdm(times):\n",
    "\n",
    "        if t % save_time == 0:\n",
    "            disp_history += [disp]\n",
    "            vel_history += [vel]\n",
    "            energy_history += [energy(mass, c, vel, disp)]\n",
    "        \n",
    "        # leapfrog synchronized form\n",
    "        acc1 = (c/mass)*(np.roll(disp,-1)+np.roll(disp,1)+np.roll(disp,-1,axis=0)+np.roll(disp,1,axis=0)-4*disp)\n",
    "        disp += vel*dt+1/2*acc1*dt**2\n",
    "        acc2 = (c/mass)*(np.roll(disp,-1)+np.roll(disp,1)+np.roll(disp,-1,axis=0)+np.roll(disp,1,axis=0)-4*disp)\n",
    "        vel += 1/2*(acc1+acc2)*dt\n",
    "\n",
    "        # leapfrog self-made form\n",
    "        #deform = np.roll(disp,-1) + np.roll(disp,1) + np.roll(disp,-1,axis=0) + np.roll(disp,1,axis=0) - 4*disp\n",
    "        #vel += (c/mass)*deform*dt\n",
    "        #disp += vel * dt\n",
    "\n",
    "    return disp_history, vel_history, energy_history"
   ]
  },
  {
   "cell_type": "code",
   "execution_count": null,
   "metadata": {},
   "outputs": [],
   "source": [
    "disp, vel = specify_initial_and_boundary(num_x, num_y, beta_x, beta_y, n_0, v_0, u_0, c, m_1, a, omega)\n",
    "\n",
    "fig = plt.figure()\n",
    "ax = plt.axes(projection=\"3d\")\n",
    "x, y = np.meshgrid(num_x, num_y)\n",
    "surf = ax.plot_surface(x, y, disp)\n",
    "plt.show()"
   ]
  },
  {
   "cell_type": "code",
   "execution_count": null,
   "metadata": {},
   "outputs": [],
   "source": [
    "disp_history = []\n",
    "vel_history = []\n",
    "energy_history = []\n",
    "disp_history, vel_history, energy_history = solver(mass, disp, vel, c, disp_history, vel_history,\n",
    "                                                   energy_history, t_max, dt, save_time)\n",
    "\n",
    "fig = plt.figure()\n",
    "ax = plt.axes(projection=\"3d\")\n",
    "x, y = np.meshgrid(num_x, num_y)\n",
    "surf = ax.plot_surface(x, y, disp)\n",
    "plt.show()"
   ]
  },
  {
   "cell_type": "code",
   "execution_count": null,
   "metadata": {},
   "outputs": [],
   "source": [
    "X, Y = np.meshgrid(num_x, num_y)\n",
    "levels = np.linspace(disp.min(), disp.max(), 100)\n",
    "fig, ax = plt.subplots()\n",
    "cs = ax.contourf(X, Y, disp,levels=levels)\n",
    "cbar = fig.colorbar(cs)\n",
    "plt.show()"
   ]
  },
  {
   "cell_type": "code",
   "execution_count": null,
   "metadata": {},
   "outputs": [],
   "source": [
    "#%matplotlib qt\n",
    "fig, ax = plt.subplots(subplot_kw={\"projection\": \"3d\"})\n",
    "X, Y = np.meshgrid(num_x, num_y)\n",
    "surf = ax.plot_surface(X, Y, disp, cmap=cm.cool)\n",
    "fig.colorbar(surf, shrink=0.5, aspect=5)\n",
    "plt.show()"
   ]
  },
  {
   "cell_type": "code",
   "execution_count": null,
   "metadata": {},
   "outputs": [],
   "source": [
    "import matplotlib.animation as animation\n",
    "plt.rcParams[\"animation.html\"] = \"jshtml\"\n",
    "plt.rcParams['figure.dpi'] = 150  \n",
    "plt.ioff()\n",
    "\n",
    "fig, ax = plt.subplots()\n",
    "X, Y = np.meshgrid(num_x, num_y)\n",
    "levels = np.linspace(energy_history[0].min(), energy_history[0].max(), 100)\n",
    "\n",
    "cf = ax.contourf(X, Y, energy_history[0], levels=levels)\n",
    "cbar = fig.colorbar(cf)\n",
    "plt.grid()\n",
    "plt.plot([0,0],[num_y[0],num_y[-1]], c='r', linewidth=0.8)\n",
    "plt.xlabel('Номер частицы по оси Ox')\n",
    "plt.ylabel('Номер частицы по оси Oy')\n",
    "\n",
    "def update(frame):\n",
    "    cf = ax.contourf(X, Y, energy_history[frame], levels=levels)\n",
    "    plt.title(f't={5*frame}')\n",
    "    return cf, \n",
    "\n",
    "animation.FuncAnimation(fig, update, frames=len(energy_history))"
   ]
  },
  {
   "attachments": {},
   "cell_type": "markdown",
   "metadata": {},
   "source": [
    "TODO: изменение colorbar в анимации: [https://stackoverflow.com/questions/39472017/how-to-animate-the-colorbar-in-matplotlib](https://stackoverflow.com/questions/39472017/how-to-animate-the-colorbar-in-matplotlib)."
   ]
  },
  {
   "cell_type": "code",
   "execution_count": null,
   "metadata": {},
   "outputs": [],
   "source": []
  }
 ],
 "metadata": {
  "kernelspec": {
   "display_name": "notebooks-source-env",
   "language": "python",
   "name": "python3"
  },
  "language_info": {
   "codemirror_mode": {
    "name": "ipython",
    "version": 3
   },
   "file_extension": ".py",
   "mimetype": "text/x-python",
   "name": "python",
   "nbconvert_exporter": "python",
   "pygments_lexer": "ipython3",
   "version": "3.10.9"
  },
  "orig_nbformat": 4
 },
 "nbformat": 4,
 "nbformat_minor": 2
}
